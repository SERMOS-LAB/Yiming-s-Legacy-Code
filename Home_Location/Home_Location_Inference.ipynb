{
 "cells": [
  {
   "cell_type": "code",
   "execution_count": 1,
   "metadata": {
    "ExecuteTime": {
     "end_time": "2020-12-14T03:00:51.964713Z",
     "start_time": "2020-12-14T03:00:51.589851Z"
    }
   },
   "outputs": [],
   "source": [
    "import pandas as pd\n",
    "import os\n",
    "import numpy as np"
   ]
  },
  {
   "cell_type": "markdown",
   "metadata": {},
   "source": [
    "## Read Data"
   ]
  },
  {
   "cell_type": "code",
   "execution_count": 2,
   "metadata": {
    "ExecuteTime": {
     "end_time": "2020-12-14T03:01:07.842623Z",
     "start_time": "2020-12-14T03:00:54.504428Z"
    },
    "scrolled": true
   },
   "outputs": [
    {
     "data": {
      "text/html": [
       "<div>\n",
       "<style scoped>\n",
       "    .dataframe tbody tr th:only-of-type {\n",
       "        vertical-align: middle;\n",
       "    }\n",
       "\n",
       "    .dataframe tbody tr th {\n",
       "        vertical-align: top;\n",
       "    }\n",
       "\n",
       "    .dataframe thead th {\n",
       "        text-align: right;\n",
       "    }\n",
       "</style>\n",
       "<table border=\"1\" class=\"dataframe\">\n",
       "  <thead>\n",
       "    <tr style=\"text-align: right;\">\n",
       "      <th></th>\n",
       "      <th>GRAVYREGISTRATIONID</th>\n",
       "      <th>GEOHASHLATITUDE</th>\n",
       "      <th>GEOHASHLONGITUDE</th>\n",
       "      <th>GEOHASH9</th>\n",
       "      <th>TIMESTAMP_EPOCH_MILLISECOND</th>\n",
       "      <th>TIMEZONE</th>\n",
       "      <th>FORENSICFLAG</th>\n",
       "      <th>time</th>\n",
       "      <th>LAT_EPSG_3857</th>\n",
       "      <th>LON_EPSG_3857</th>\n",
       "    </tr>\n",
       "  </thead>\n",
       "  <tbody>\n",
       "    <tr>\n",
       "      <th>0</th>\n",
       "      <td>00056b3f-b4af-320f-bde2-70a95624a2b3</td>\n",
       "      <td>38.325870</td>\n",
       "      <td>-122.489039</td>\n",
       "      <td>9qbfh9n0q</td>\n",
       "      <td>1571184720000</td>\n",
       "      <td>America/Los_Angeles</td>\n",
       "      <td>32768</td>\n",
       "      <td>2019-10-16 00:12:00</td>\n",
       "      <td>4.625563e+06</td>\n",
       "      <td>-1.363542e+07</td>\n",
       "    </tr>\n",
       "    <tr>\n",
       "      <th>1</th>\n",
       "      <td>00056b3f-b4af-320f-bde2-70a95624a2b3</td>\n",
       "      <td>38.325870</td>\n",
       "      <td>-122.488996</td>\n",
       "      <td>9qbfh9n0r</td>\n",
       "      <td>1571184720000</td>\n",
       "      <td>America/Los_Angeles</td>\n",
       "      <td>32768</td>\n",
       "      <td>2019-10-16 00:12:00</td>\n",
       "      <td>4.625563e+06</td>\n",
       "      <td>-1.363541e+07</td>\n",
       "    </tr>\n",
       "    <tr>\n",
       "      <th>2</th>\n",
       "      <td>00056b3f-b4af-320f-bde2-70a95624a2b3</td>\n",
       "      <td>38.325870</td>\n",
       "      <td>-122.488739</td>\n",
       "      <td>9qbfh9n2m</td>\n",
       "      <td>1571184720000</td>\n",
       "      <td>America/Los_Angeles</td>\n",
       "      <td>0</td>\n",
       "      <td>2019-10-16 00:12:00</td>\n",
       "      <td>4.625563e+06</td>\n",
       "      <td>-1.363538e+07</td>\n",
       "    </tr>\n",
       "    <tr>\n",
       "      <th>3</th>\n",
       "      <td>00056b3f-b4af-320f-bde2-70a95624a2b3</td>\n",
       "      <td>38.325870</td>\n",
       "      <td>-122.489039</td>\n",
       "      <td>9qbfh9n0q</td>\n",
       "      <td>1571184720000</td>\n",
       "      <td>America/Los_Angeles</td>\n",
       "      <td>32768</td>\n",
       "      <td>2019-10-16 00:12:00</td>\n",
       "      <td>4.625563e+06</td>\n",
       "      <td>-1.363542e+07</td>\n",
       "    </tr>\n",
       "    <tr>\n",
       "      <th>4</th>\n",
       "      <td>00056b3f-b4af-320f-bde2-70a95624a2b3</td>\n",
       "      <td>38.325870</td>\n",
       "      <td>-122.489039</td>\n",
       "      <td>9qbfh9n0q</td>\n",
       "      <td>1571184720000</td>\n",
       "      <td>America/Los_Angeles</td>\n",
       "      <td>32768</td>\n",
       "      <td>2019-10-16 00:12:00</td>\n",
       "      <td>4.625563e+06</td>\n",
       "      <td>-1.363542e+07</td>\n",
       "    </tr>\n",
       "    <tr>\n",
       "      <th>...</th>\n",
       "      <td>...</td>\n",
       "      <td>...</td>\n",
       "      <td>...</td>\n",
       "      <td>...</td>\n",
       "      <td>...</td>\n",
       "      <td>...</td>\n",
       "      <td>...</td>\n",
       "      <td>...</td>\n",
       "      <td>...</td>\n",
       "      <td>...</td>\n",
       "    </tr>\n",
       "    <tr>\n",
       "      <th>10213100</th>\n",
       "      <td>fffe49e5-6d85-37d3-b674-6f75445477ed</td>\n",
       "      <td>38.500750</td>\n",
       "      <td>-122.468740</td>\n",
       "      <td>9qbgj0ugp</td>\n",
       "      <td>1571720700000</td>\n",
       "      <td>America/Los_Angeles</td>\n",
       "      <td>4194304</td>\n",
       "      <td>2019-10-22 05:05:00</td>\n",
       "      <td>4.650409e+06</td>\n",
       "      <td>-1.363316e+07</td>\n",
       "    </tr>\n",
       "    <tr>\n",
       "      <th>10213101</th>\n",
       "      <td>fffe49e5-6d85-37d3-b674-6f75445477ed</td>\n",
       "      <td>38.500621</td>\n",
       "      <td>-122.468698</td>\n",
       "      <td>9qbgj0v42</td>\n",
       "      <td>1571720700000</td>\n",
       "      <td>America/Los_Angeles</td>\n",
       "      <td>4194304</td>\n",
       "      <td>2019-10-22 05:05:00</td>\n",
       "      <td>4.650390e+06</td>\n",
       "      <td>-1.363315e+07</td>\n",
       "    </tr>\n",
       "    <tr>\n",
       "      <th>10213102</th>\n",
       "      <td>fffe49e5-6d85-37d3-b674-6f75445477ed</td>\n",
       "      <td>38.500664</td>\n",
       "      <td>-122.468783</td>\n",
       "      <td>9qbgj0ufw</td>\n",
       "      <td>1571720700000</td>\n",
       "      <td>America/Los_Angeles</td>\n",
       "      <td>4194304</td>\n",
       "      <td>2019-10-22 05:05:00</td>\n",
       "      <td>4.650396e+06</td>\n",
       "      <td>-1.363316e+07</td>\n",
       "    </tr>\n",
       "    <tr>\n",
       "      <th>10213103</th>\n",
       "      <td>fffe49e5-6d85-37d3-b674-6f75445477ed</td>\n",
       "      <td>38.500578</td>\n",
       "      <td>-122.468826</td>\n",
       "      <td>9qbgj0ufj</td>\n",
       "      <td>1571720700000</td>\n",
       "      <td>America/Los_Angeles</td>\n",
       "      <td>4194304</td>\n",
       "      <td>2019-10-22 05:05:00</td>\n",
       "      <td>4.650384e+06</td>\n",
       "      <td>-1.363317e+07</td>\n",
       "    </tr>\n",
       "    <tr>\n",
       "      <th>10213104</th>\n",
       "      <td>fffe49e5-6d85-37d3-b674-6f75445477ed</td>\n",
       "      <td>38.500664</td>\n",
       "      <td>-122.468783</td>\n",
       "      <td>9qbgj0ufw</td>\n",
       "      <td>1571720760000</td>\n",
       "      <td>America/Los_Angeles</td>\n",
       "      <td>4194304</td>\n",
       "      <td>2019-10-22 05:06:00</td>\n",
       "      <td>4.650396e+06</td>\n",
       "      <td>-1.363316e+07</td>\n",
       "    </tr>\n",
       "  </tbody>\n",
       "</table>\n",
       "<p>10213105 rows × 10 columns</p>\n",
       "</div>"
      ],
      "text/plain": [
       "                           GRAVYREGISTRATIONID  GEOHASHLATITUDE  \\\n",
       "0         00056b3f-b4af-320f-bde2-70a95624a2b3        38.325870   \n",
       "1         00056b3f-b4af-320f-bde2-70a95624a2b3        38.325870   \n",
       "2         00056b3f-b4af-320f-bde2-70a95624a2b3        38.325870   \n",
       "3         00056b3f-b4af-320f-bde2-70a95624a2b3        38.325870   \n",
       "4         00056b3f-b4af-320f-bde2-70a95624a2b3        38.325870   \n",
       "...                                        ...              ...   \n",
       "10213100  fffe49e5-6d85-37d3-b674-6f75445477ed        38.500750   \n",
       "10213101  fffe49e5-6d85-37d3-b674-6f75445477ed        38.500621   \n",
       "10213102  fffe49e5-6d85-37d3-b674-6f75445477ed        38.500664   \n",
       "10213103  fffe49e5-6d85-37d3-b674-6f75445477ed        38.500578   \n",
       "10213104  fffe49e5-6d85-37d3-b674-6f75445477ed        38.500664   \n",
       "\n",
       "          GEOHASHLONGITUDE   GEOHASH9  TIMESTAMP_EPOCH_MILLISECOND  \\\n",
       "0              -122.489039  9qbfh9n0q                1571184720000   \n",
       "1              -122.488996  9qbfh9n0r                1571184720000   \n",
       "2              -122.488739  9qbfh9n2m                1571184720000   \n",
       "3              -122.489039  9qbfh9n0q                1571184720000   \n",
       "4              -122.489039  9qbfh9n0q                1571184720000   \n",
       "...                    ...        ...                          ...   \n",
       "10213100       -122.468740  9qbgj0ugp                1571720700000   \n",
       "10213101       -122.468698  9qbgj0v42                1571720700000   \n",
       "10213102       -122.468783  9qbgj0ufw                1571720700000   \n",
       "10213103       -122.468826  9qbgj0ufj                1571720700000   \n",
       "10213104       -122.468783  9qbgj0ufw                1571720760000   \n",
       "\n",
       "                     TIMEZONE  FORENSICFLAG                 time  \\\n",
       "0         America/Los_Angeles         32768  2019-10-16 00:12:00   \n",
       "1         America/Los_Angeles         32768  2019-10-16 00:12:00   \n",
       "2         America/Los_Angeles             0  2019-10-16 00:12:00   \n",
       "3         America/Los_Angeles         32768  2019-10-16 00:12:00   \n",
       "4         America/Los_Angeles         32768  2019-10-16 00:12:00   \n",
       "...                       ...           ...                  ...   \n",
       "10213100  America/Los_Angeles       4194304  2019-10-22 05:05:00   \n",
       "10213101  America/Los_Angeles       4194304  2019-10-22 05:05:00   \n",
       "10213102  America/Los_Angeles       4194304  2019-10-22 05:05:00   \n",
       "10213103  America/Los_Angeles       4194304  2019-10-22 05:05:00   \n",
       "10213104  America/Los_Angeles       4194304  2019-10-22 05:06:00   \n",
       "\n",
       "          LAT_EPSG_3857  LON_EPSG_3857  \n",
       "0          4.625563e+06  -1.363542e+07  \n",
       "1          4.625563e+06  -1.363541e+07  \n",
       "2          4.625563e+06  -1.363538e+07  \n",
       "3          4.625563e+06  -1.363542e+07  \n",
       "4          4.625563e+06  -1.363542e+07  \n",
       "...                 ...            ...  \n",
       "10213100   4.650409e+06  -1.363316e+07  \n",
       "10213101   4.650390e+06  -1.363315e+07  \n",
       "10213102   4.650396e+06  -1.363316e+07  \n",
       "10213103   4.650384e+06  -1.363317e+07  \n",
       "10213104   4.650396e+06  -1.363316e+07  \n",
       "\n",
       "[10213105 rows x 10 columns]"
      ]
     },
     "execution_count": 2,
     "metadata": {},
     "output_type": "execute_result"
    }
   ],
   "source": [
    "path = '.../Data.csv'\n",
    "data=pd.read_csv(path)\n",
    "data"
   ]
  },
  {
   "cell_type": "code",
   "execution_count": 3,
   "metadata": {
    "ExecuteTime": {
     "end_time": "2020-12-14T03:01:08.703347Z",
     "start_time": "2020-12-14T03:01:07.844618Z"
    }
   },
   "outputs": [
    {
     "data": {
      "text/plain": [
       "4041"
      ]
     },
     "execution_count": 3,
     "metadata": {},
     "output_type": "execute_result"
    }
   ],
   "source": [
    "ID_list=data['GRAVYREGISTRATIONID'].unique()\n",
    "len(ID_list)"
   ]
  },
  {
   "cell_type": "markdown",
   "metadata": {},
   "source": [
    "## Home Inference Function"
   ]
  },
  {
   "cell_type": "markdown",
   "metadata": {},
   "source": [
    "by identifying hottest spot during night"
   ]
  },
  {
   "cell_type": "code",
   "execution_count": 4,
   "metadata": {
    "ExecuteTime": {
     "end_time": "2020-11-24T00:47:44.802802Z",
     "start_time": "2020-11-24T00:47:44.795820Z"
    }
   },
   "outputs": [],
   "source": [
    "def home_location(ndf,s_hour=22,t_hour=6):\n",
    "    '''\n",
    "    ndf: gps data\n",
    "    s_hour: define start time of night, defult = 22\n",
    "    t_hour: define end time of night, defult = 6\n",
    "    '''\n",
    "    ndf['time']=pd.to_datetime(ndf['time'],utc=True)\n",
    "    ndf['hour']=pd.Series(ndf['time']).dt.tz_convert('US/Pacific').dt.hour\n",
    "    ndf['LAT_Grid']=np.round(ndf['LAT_EPSG_3857']/20)*20  # Grid size = 20m\n",
    "    ndf['LON_Grid']=np.round(ndf['LON_EPSG_3857']/20)*20\n",
    "    id=ndf.iloc[0,0]\n",
    "    ndf=ndf[(ndf['hour']>=s_hour)|(ndf['hour']<t_hour)]\n",
    "    if len(ndf)==0:  # if no signal during the night, return NaN\n",
    "        return np.nan,np.nan\n",
    "    home=ndf.groupby(['LAT_Grid','LON_Grid']).count()['GEOHASH9'].idxmax()\n",
    "    return home[0],home[1]"
   ]
  },
  {
   "cell_type": "code",
   "execution_count": 5,
   "metadata": {
    "ExecuteTime": {
     "end_time": "2020-11-24T00:48:41.380409Z",
     "start_time": "2020-11-24T00:48:38.499187Z"
    }
   },
   "outputs": [],
   "source": [
    "home=pd.DataFrame(columns=['ID','LAT','LON']) # initial a DataFrame to save home location\n",
    "\n",
    "for i in ID_list[0:5]: \n",
    "    df=data[data['GRAVYREGISTRATIONID']==i].sort_values('TIMESTAMP_EPOCH_MILLISECOND',axis=0,ascending=True) # extract records\n",
    "    h_lat,h_lon=home_location(df) # calculate home location\n",
    "    home=home.append(pd.DataFrame([[i,h_lat,h_lon]],columns=['ID','LAT','LON'])) # append the new row "
   ]
  },
  {
   "cell_type": "code",
   "execution_count": 6,
   "metadata": {
    "ExecuteTime": {
     "end_time": "2020-11-24T00:48:43.788823Z",
     "start_time": "2020-11-24T00:48:43.781789Z"
    }
   },
   "outputs": [
    {
     "data": {
      "text/html": [
       "<div>\n",
       "<style scoped>\n",
       "    .dataframe tbody tr th:only-of-type {\n",
       "        vertical-align: middle;\n",
       "    }\n",
       "\n",
       "    .dataframe tbody tr th {\n",
       "        vertical-align: top;\n",
       "    }\n",
       "\n",
       "    .dataframe thead th {\n",
       "        text-align: right;\n",
       "    }\n",
       "</style>\n",
       "<table border=\"1\" class=\"dataframe\">\n",
       "  <thead>\n",
       "    <tr style=\"text-align: right;\">\n",
       "      <th></th>\n",
       "      <th>ID</th>\n",
       "      <th>LAT</th>\n",
       "      <th>LON</th>\n",
       "    </tr>\n",
       "  </thead>\n",
       "  <tbody>\n",
       "    <tr>\n",
       "      <th>0</th>\n",
       "      <td>00056b3f-b4af-320f-bde2-70a95624a2b3</td>\n",
       "      <td>4627480.0</td>\n",
       "      <td>-13637720.0</td>\n",
       "    </tr>\n",
       "    <tr>\n",
       "      <th>0</th>\n",
       "      <td>00230920-5dc9-388f-93bf-789cbed249b8</td>\n",
       "      <td>4614500.0</td>\n",
       "      <td>-13649900.0</td>\n",
       "    </tr>\n",
       "    <tr>\n",
       "      <th>0</th>\n",
       "      <td>00364719-aa13-3eef-841d-9f319954a068</td>\n",
       "      <td>4645500.0</td>\n",
       "      <td>-13654600.0</td>\n",
       "    </tr>\n",
       "    <tr>\n",
       "      <th>0</th>\n",
       "      <td>003652a2-9b4f-335f-ade9-8519a75ff3f6</td>\n",
       "      <td>4634080.0</td>\n",
       "      <td>-13680420.0</td>\n",
       "    </tr>\n",
       "    <tr>\n",
       "      <th>0</th>\n",
       "      <td>0038f14e-4a3e-3d50-93c7-4f6bf8c0434e</td>\n",
       "      <td>4613740.0</td>\n",
       "      <td>-13646560.0</td>\n",
       "    </tr>\n",
       "  </tbody>\n",
       "</table>\n",
       "</div>"
      ],
      "text/plain": [
       "                                     ID        LAT         LON\n",
       "0  00056b3f-b4af-320f-bde2-70a95624a2b3  4627480.0 -13637720.0\n",
       "0  00230920-5dc9-388f-93bf-789cbed249b8  4614500.0 -13649900.0\n",
       "0  00364719-aa13-3eef-841d-9f319954a068  4645500.0 -13654600.0\n",
       "0  003652a2-9b4f-335f-ade9-8519a75ff3f6  4634080.0 -13680420.0\n",
       "0  0038f14e-4a3e-3d50-93c7-4f6bf8c0434e  4613740.0 -13646560.0"
      ]
     },
     "execution_count": 6,
     "metadata": {},
     "output_type": "execute_result"
    }
   ],
   "source": [
    "home"
   ]
  }
 ],
 "metadata": {
  "kernelspec": {
   "display_name": "Python 3",
   "language": "python",
   "name": "python3"
  },
  "language_info": {
   "codemirror_mode": {
    "name": "ipython",
    "version": 3
   },
   "file_extension": ".py",
   "mimetype": "text/x-python",
   "name": "python",
   "nbconvert_exporter": "python",
   "pygments_lexer": "ipython3",
   "version": "3.7.4"
  },
  "toc": {
   "base_numbering": 1,
   "nav_menu": {},
   "number_sections": true,
   "sideBar": true,
   "skip_h1_title": false,
   "title_cell": "Table of Contents",
   "title_sidebar": "Contents",
   "toc_cell": false,
   "toc_position": {},
   "toc_section_display": true,
   "toc_window_display": false
  }
 },
 "nbformat": 4,
 "nbformat_minor": 2
}
